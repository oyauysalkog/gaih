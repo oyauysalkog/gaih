{
 "cells": [
  {
   "cell_type": "code",
   "execution_count": 1,
   "id": "smooth-livestock",
   "metadata": {},
   "outputs": [
    {
     "name": "stdout",
     "output_type": "stream",
     "text": [
      "Maria : German,French\n",
      "Alex : English\n",
      "Larry : English, Türkish, Spanish\n",
      "Laura : English, French, Spanish\n"
     ]
    }
   ],
   "source": [
    "class Employees:\n",
    "  name = \"\"\n",
    "  age = 0\n",
    "  language = \"\"      \n",
    " \n",
    "  def __init__(self, name, age, language):\n",
    "      self.name = name\n",
    "      self.age = age\n",
    "      self.language = language\n",
    "\n",
    "  def showName(self):\n",
    "      print(self.name)\n",
    "  \n",
    "  def showAge(self):\n",
    "      print(self.age)\n",
    "  \n",
    "  def showlanguage(self):\n",
    "      print(self.name,\":\" , self.language)\n",
    "\n",
    "class Manager:\n",
    "  name = \"\"\n",
    "  age = 0\n",
    "  language = \"\"      \n",
    " \n",
    "  def __init__(self, name, age, language):\n",
    "      self.name = name\n",
    "      self.age = age\n",
    "      self.language = language\n",
    "  \n",
    " \n",
    "  def showName(self):\n",
    "      print(self.name)\n",
    "  \n",
    "  def showAge(self):\n",
    "      print(self.age)\n",
    "  \n",
    "  def showlanguage(self):\n",
    "      print(self.name,\":\" , self.language)\n",
    "\n",
    "person1 = Employees(\"Alex\", 27, \"English\") \n",
    "person2 = Employees(\"Maria\", 32, \"German,French\")\n",
    "person3 = Manager(\"Larry\", 36, \"English, Türkish, Spanish\") \n",
    "person4 = Manager(\"Laura\", 29, \"English, French, Spanish\")\n",
    "\n",
    "person2.showlanguage()\n",
    "person1.showlanguage()\n",
    "person3.showlanguage()\n",
    "person4.showlanguage()"
   ]
  }
 ],
 "metadata": {
  "kernelspec": {
   "display_name": "Python 3",
   "language": "python",
   "name": "python3"
  },
  "language_info": {
   "codemirror_mode": {
    "name": "ipython",
    "version": 3
   },
   "file_extension": ".py",
   "mimetype": "text/x-python",
   "name": "python",
   "nbconvert_exporter": "python",
   "pygments_lexer": "ipython3",
   "version": "3.7.6"
  }
 },
 "nbformat": 4,
 "nbformat_minor": 5
}
