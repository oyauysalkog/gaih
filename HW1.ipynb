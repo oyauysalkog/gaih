{
 "cells": [
  {
   "cell_type": "code",
   "execution_count": 1,
   "id": "maritime-realtor",
   "metadata": {},
   "outputs": [
    {
     "name": "stdout",
     "output_type": "stream",
     "text": [
      "first_half= [1, 2, 3, 4, 5] second_half= [6, 7, 8, 9, 10]\n",
      "new_List= [6, 7, 8, 9, 10, 1, 2, 3, 4, 5]\n"
     ]
    }
   ],
   "source": [
    "List = [1,2,3,4,5,6,7,8,9,10]             \n",
    "first_half=List[:5]\n",
    "second_half=List[5:]\n",
    "print('first_half=',first_half,'second_half=',second_half)\n",
    "new_List=second_half+first_half\n",
    "print('new_List=',new_List)"
   ]
  },
  {
   "cell_type": "code",
   "execution_count": 2,
   "id": "continental-insight",
   "metadata": {},
   "outputs": [
    {
     "name": "stdout",
     "output_type": "stream",
     "text": [
      "Enter a single digit number: 4\n",
      "0\n",
      "2\n",
      "4\n"
     ]
    }
   ],
   "source": [
    "n=int(input('Enter a single digit number: '))     \n",
    "for i in range(0,n+1):\n",
    "  if i%2==0:\n",
    "    print(i)"
   ]
  }
 ],
 "metadata": {
  "kernelspec": {
   "display_name": "Python 3",
   "language": "python",
   "name": "python3"
  },
  "language_info": {
   "codemirror_mode": {
    "name": "ipython",
    "version": 3
   },
   "file_extension": ".py",
   "mimetype": "text/x-python",
   "name": "python",
   "nbconvert_exporter": "python",
   "pygments_lexer": "ipython3",
   "version": "3.7.6"
  }
 },
 "nbformat": 4,
 "nbformat_minor": 5
}
