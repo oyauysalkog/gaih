{
 "cells": [
  {
   "cell_type": "code",
   "execution_count": 1,
   "id": "opponent-traffic",
   "metadata": {},
   "outputs": [
    {
     "name": "stdout",
     "output_type": "stream",
     "text": [
      "Enter your name: user\n",
      "Enter your password: pass\n",
      "Logined successfully!\n"
     ]
    }
   ],
   "source": [
    "username='user'        \n",
    "password='pass'\n",
    "\n",
    "username=input('Enter your name: ')\n",
    "\n",
    "if username=='user' :\n",
    "  password=input('Enter your password: ')\n",
    "  if password=='pass':\n",
    "    print('Logined successfully!')\n",
    "  else:\n",
    "    print('invalid password')\n",
    "\n",
    "else: \n",
    "  print('invalid username')"
   ]
  },
  {
   "cell_type": "code",
   "execution_count": null,
   "id": "willing-arlington",
   "metadata": {},
   "outputs": [],
   "source": []
  }
 ],
 "metadata": {
  "kernelspec": {
   "display_name": "Python 3",
   "language": "python",
   "name": "python3"
  },
  "language_info": {
   "codemirror_mode": {
    "name": "ipython",
    "version": 3
   },
   "file_extension": ".py",
   "mimetype": "text/x-python",
   "name": "python",
   "nbconvert_exporter": "python",
   "pygments_lexer": "ipython3",
   "version": "3.7.6"
  }
 },
 "nbformat": 4,
 "nbformat_minor": 5
}
