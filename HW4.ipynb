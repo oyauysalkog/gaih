{
 "cells": [
  {
   "cell_type": "code",
   "execution_count": 1,
   "id": "portuguese-madison",
   "metadata": {},
   "outputs": [
    {
     "name": "stdout",
     "output_type": "stream",
     "text": [
      "Max is a Male 2 years old Dog, wants to eat something\n",
      "Max just did a loud woof\n",
      "Lola is a Female 3 years old Cat, falling a sleep\n"
     ]
    }
   ],
   "source": [
    "class Animal:\n",
    "    doing = ''\n",
    "    action = ''\n",
    "    def __init__(self, name, gender, age):\n",
    "        self.kind = self.__class__.__name__\n",
    "        self.name = name\n",
    "        self.gender = gender\n",
    "        self.age = age\n",
    "    def speak(self, sound):\n",
    "        self.sound = sound\n",
    "        print(\"{} just did a {} {}\".format(self.name, self.sound, self.action))\n",
    "    def getallinfo(self):\n",
    "        print(\"{} is a {} {} {}, {}\".format(self.name, self.gender, self.age, self.kind, self.doing))\n",
    "#This class inherits kind and place arguments from Animal class (which can work for any animal)\n",
    "#Initiates a Dog object with name, gender and breed parameters.\n",
    "\n",
    "class Dog(Animal):\n",
    "    doing = 'wants to eat something'\n",
    "    action = 'woof'\n",
    "\n",
    "#Cat class inherits the paramets of use for a Cat (similar things) like name, gender and breed, which they both share, also the getallinfo method and initiate them. \n",
    "class Cat(Animal):\n",
    "    doing = 'falling a sleep'\n",
    "    action = 'meooow'\n",
    "\n",
    "\n",
    "#Here I create 3 objects, 2 dogs and 1 cat with selected arguments.\n",
    "#And check for some methods on the objects.\n",
    "Max = Dog('Max', 'Male', '2 years old')\n",
    "Fifi = Dog('Fifi','Female','1 year old')\n",
    "Lola = Cat('Lola','Female','3 years old')\n",
    "\n",
    "Max.getallinfo()\n",
    "Max.speak('loud')\n",
    "Lola.getallinfo()"
   ]
  }
 ],
 "metadata": {
  "kernelspec": {
   "display_name": "Python 3",
   "language": "python",
   "name": "python3"
  },
  "language_info": {
   "codemirror_mode": {
    "name": "ipython",
    "version": 3
   },
   "file_extension": ".py",
   "mimetype": "text/x-python",
   "name": "python",
   "nbconvert_exporter": "python",
   "pygments_lexer": "ipython3",
   "version": "3.7.6"
  }
 },
 "nbformat": 4,
 "nbformat_minor": 5
}
